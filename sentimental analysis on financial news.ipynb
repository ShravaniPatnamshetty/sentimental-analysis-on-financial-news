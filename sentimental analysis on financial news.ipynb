{
 "cells": [
  {
   "cell_type": "code",
   "execution_count": 1,
   "id": "16f79568",
   "metadata": {},
   "outputs": [
    {
     "data": {
      "text/html": [
       "<div>\n",
       "<style scoped>\n",
       "    .dataframe tbody tr th:only-of-type {\n",
       "        vertical-align: middle;\n",
       "    }\n",
       "\n",
       "    .dataframe tbody tr th {\n",
       "        vertical-align: top;\n",
       "    }\n",
       "\n",
       "    .dataframe thead th {\n",
       "        text-align: right;\n",
       "    }\n",
       "</style>\n",
       "<table border=\"1\" class=\"dataframe\">\n",
       "  <thead>\n",
       "    <tr style=\"text-align: right;\">\n",
       "      <th></th>\n",
       "      <th>neutral</th>\n",
       "      <th>According to Gran , the company has no plans to move all production to Russia , although that is where the company is growing .</th>\n",
       "    </tr>\n",
       "  </thead>\n",
       "  <tbody>\n",
       "    <tr>\n",
       "      <th>0</th>\n",
       "      <td>neutral</td>\n",
       "      <td>Technopolis plans to develop in stages an area...</td>\n",
       "    </tr>\n",
       "    <tr>\n",
       "      <th>1</th>\n",
       "      <td>negative</td>\n",
       "      <td>The international electronic industry company ...</td>\n",
       "    </tr>\n",
       "    <tr>\n",
       "      <th>2</th>\n",
       "      <td>positive</td>\n",
       "      <td>With the new production plant the company woul...</td>\n",
       "    </tr>\n",
       "    <tr>\n",
       "      <th>3</th>\n",
       "      <td>positive</td>\n",
       "      <td>According to the company 's updated strategy f...</td>\n",
       "    </tr>\n",
       "    <tr>\n",
       "      <th>4</th>\n",
       "      <td>positive</td>\n",
       "      <td>FINANCING OF ASPOCOMP 'S GROWTH Aspocomp is ag...</td>\n",
       "    </tr>\n",
       "  </tbody>\n",
       "</table>\n",
       "</div>"
      ],
      "text/plain": [
       "    neutral  \\\n",
       "0   neutral   \n",
       "1  negative   \n",
       "2  positive   \n",
       "3  positive   \n",
       "4  positive   \n",
       "\n",
       "  According to Gran , the company has no plans to move all production to Russia , although that is where the company is growing .  \n",
       "0  Technopolis plans to develop in stages an area...                                                                               \n",
       "1  The international electronic industry company ...                                                                               \n",
       "2  With the new production plant the company woul...                                                                               \n",
       "3  According to the company 's updated strategy f...                                                                               \n",
       "4  FINANCING OF ASPOCOMP 'S GROWTH Aspocomp is ag...                                                                               "
      ]
     },
     "execution_count": 1,
     "metadata": {},
     "output_type": "execute_result"
    }
   ],
   "source": [
    "import pandas as pd\n",
    "data=pd.read_csv(\"all-data.csv\")\n",
    "data.head()"
   ]
  },
  {
   "cell_type": "code",
   "execution_count": 2,
   "id": "36d244a6",
   "metadata": {},
   "outputs": [
    {
     "name": "stdout",
     "output_type": "stream",
     "text": [
      "<class 'pandas.core.frame.DataFrame'>\n",
      "RangeIndex: 4845 entries, 0 to 4844\n",
      "Data columns (total 2 columns):\n",
      " #   Column                                                                                                                           Non-Null Count  Dtype \n",
      "---  ------                                                                                                                           --------------  ----- \n",
      " 0   neutral                                                                                                                          4845 non-null   object\n",
      " 1   According to Gran , the company has no plans to move all production to Russia , although that is where the company is growing .  4845 non-null   object\n",
      "dtypes: object(2)\n",
      "memory usage: 75.8+ KB\n"
     ]
    }
   ],
   "source": [
    "data.info()"
   ]
  },
  {
   "cell_type": "code",
   "execution_count": 3,
   "id": "c0aad883",
   "metadata": {},
   "outputs": [
    {
     "data": {
      "text/html": [
       "<div>\n",
       "<style scoped>\n",
       "    .dataframe tbody tr th:only-of-type {\n",
       "        vertical-align: middle;\n",
       "    }\n",
       "\n",
       "    .dataframe tbody tr th {\n",
       "        vertical-align: top;\n",
       "    }\n",
       "\n",
       "    .dataframe thead th {\n",
       "        text-align: right;\n",
       "    }\n",
       "</style>\n",
       "<table border=\"1\" class=\"dataframe\">\n",
       "  <thead>\n",
       "    <tr style=\"text-align: right;\">\n",
       "      <th></th>\n",
       "      <th>neutral</th>\n",
       "      <th>According to Gran , the company has no plans to move all production to Russia , although that is where the company is growing .</th>\n",
       "    </tr>\n",
       "  </thead>\n",
       "  <tbody>\n",
       "    <tr>\n",
       "      <th>count</th>\n",
       "      <td>4845</td>\n",
       "      <td>4845</td>\n",
       "    </tr>\n",
       "    <tr>\n",
       "      <th>unique</th>\n",
       "      <td>3</td>\n",
       "      <td>4837</td>\n",
       "    </tr>\n",
       "    <tr>\n",
       "      <th>top</th>\n",
       "      <td>neutral</td>\n",
       "      <td>The report profiles 614 companies including ma...</td>\n",
       "    </tr>\n",
       "    <tr>\n",
       "      <th>freq</th>\n",
       "      <td>2878</td>\n",
       "      <td>2</td>\n",
       "    </tr>\n",
       "  </tbody>\n",
       "</table>\n",
       "</div>"
      ],
      "text/plain": [
       "        neutral  \\\n",
       "count      4845   \n",
       "unique        3   \n",
       "top     neutral   \n",
       "freq       2878   \n",
       "\n",
       "       According to Gran , the company has no plans to move all production to Russia , although that is where the company is growing .  \n",
       "count                                                4845                                                                               \n",
       "unique                                               4837                                                                               \n",
       "top     The report profiles 614 companies including ma...                                                                               \n",
       "freq                                                    2                                                                               "
      ]
     },
     "execution_count": 3,
     "metadata": {},
     "output_type": "execute_result"
    }
   ],
   "source": [
    "data.describe()"
   ]
  },
  {
   "cell_type": "code",
   "execution_count": 4,
   "id": "52a10c76",
   "metadata": {},
   "outputs": [],
   "source": [
    "label=data['neutral']\n",
    "text=data['According to Gran , the company has no plans to move all production to Russia , although that is where the company is growing .']"
   ]
  },
  {
   "cell_type": "code",
   "execution_count": 5,
   "id": "db39c36a",
   "metadata": {},
   "outputs": [],
   "source": [
    "label.replace(to_replace=['positive','neutral','negative'], value=[1,0.5,0], inplace=True)"
   ]
  },
  {
   "cell_type": "code",
   "execution_count": 6,
   "id": "deb5a35d",
   "metadata": {},
   "outputs": [],
   "source": [
    "from sklearn.model_selection import train_test_split\n",
    "X_train_full,X_test,y_train_full,y_test=train_test_split(text,label,test_size=0.2)\n",
    "X_train,X_valid,y_train,y_valid=train_test_split(X_train_full,y_train_full,test_size=0.2)"
   ]
  },
  {
   "cell_type": "code",
   "execution_count": 16,
   "id": "fbf3e813",
   "metadata": {},
   "outputs": [],
   "source": [
    "import tensorflow as tf\n",
    "def conv(info):\n",
    "    label_array=info.to_numpy()\n",
    "    tensor_array=tf.convert_to_tensor(label_array)\n",
    "    return tensor_array"
   ]
  },
  {
   "cell_type": "code",
   "execution_count": 8,
   "id": "065980e1",
   "metadata": {},
   "outputs": [],
   "source": [
    "y_train_tensor=conv(y_train)\n",
    "y_valid_tensor=conv(y_valid)\n",
    "y_test_tensor=conv(y_test)"
   ]
  },
  {
   "cell_type": "code",
   "execution_count": 9,
   "id": "7e116274",
   "metadata": {},
   "outputs": [],
   "source": [
    "import tensorflow as tf\n",
    "from tensorflow import keras\n",
    "from tensorflow.keras.preprocessing.text import Tokenizer"
   ]
  },
  {
   "cell_type": "code",
   "execution_count": 10,
   "id": "886054e5",
   "metadata": {},
   "outputs": [],
   "source": [
    "tokens=Tokenizer(oov_token=\"<OOV>\")"
   ]
  },
  {
   "cell_type": "code",
   "execution_count": 11,
   "id": "20ae82b0",
   "metadata": {},
   "outputs": [],
   "source": [
    "from tensorflow.keras.preprocessing.sequence import pad_sequences"
   ]
  },
  {
   "cell_type": "code",
   "execution_count": 12,
   "id": "79a805eb",
   "metadata": {},
   "outputs": [],
   "source": [
    "tokens.fit_on_texts(X_train)\n",
    "word_index=tokens.word_index\n",
    "\n",
    "vocab_size=10000\n",
    "embedding_dim=20\n",
    "max_len=150"
   ]
  },
  {
   "cell_type": "code",
   "execution_count": 13,
   "id": "d4d783d8",
   "metadata": {},
   "outputs": [],
   "source": [
    "X_train_seq=tokens.texts_to_sequences(X_train)\n",
    "X_train_pad=pad_sequences(X_train_seq,maxlen=max_len,padding=\"post\")\n",
    "\n",
    "X_test_seq=tokens.texts_to_sequences(X_test)\n",
    "X_test_pad=pad_sequences(X_test_seq,maxlen=max_len,padding=\"post\")\n",
    "\n",
    "X_valid_seq=tokens.texts_to_sequences(X_valid)\n",
    "X_valid_pad=pad_sequences(X_valid_seq,maxlen=max_len,padding=\"post\")"
   ]
  },
  {
   "cell_type": "code",
   "execution_count": 14,
   "id": "1d038cf9",
   "metadata": {},
   "outputs": [],
   "source": [
    "model=tf.keras.Sequential([\n",
    "    tf.keras.layers.Embedding(vocab_size,embedding_dim,input_length=max_len),\n",
    "    tf.keras.layers.GlobalAveragePooling1D(),\n",
    "    \n",
    "    tf.keras.layers.Dense(120, activation='relu'),\n",
    "    tf.keras.layers.Dense(1, activation='sigmoid')\n",
    "])\n",
    "model.compile(loss='binary_crossentropy', optimizer='adam', metrics=['accuracy'])"
   ]
  },
  {
   "cell_type": "code",
   "execution_count": 15,
   "id": "a38acb3d",
   "metadata": {},
   "outputs": [
    {
     "name": "stdout",
     "output_type": "stream",
     "text": [
      "Epoch 1/30\n",
      "97/97 [==============================] - 2s 9ms/step - loss: 0.6823 - accuracy: 0.2784 - val_loss: 0.6789 - val_accuracy: 0.3015\n",
      "Epoch 2/30\n",
      "97/97 [==============================] - 1s 6ms/step - loss: 0.6805 - accuracy: 0.2784 - val_loss: 0.6784 - val_accuracy: 0.3015\n",
      "Epoch 3/30\n",
      "97/97 [==============================] - 1s 6ms/step - loss: 0.6793 - accuracy: 0.2784 - val_loss: 0.6773 - val_accuracy: 0.3015\n",
      "Epoch 4/30\n",
      "97/97 [==============================] - 1s 6ms/step - loss: 0.6754 - accuracy: 0.2784 - val_loss: 0.6726 - val_accuracy: 0.3015\n",
      "Epoch 5/30\n",
      "97/97 [==============================] - 1s 5ms/step - loss: 0.6634 - accuracy: 0.2826 - val_loss: 0.6606 - val_accuracy: 0.3131\n",
      "Epoch 6/30\n",
      "97/97 [==============================] - 1s 7ms/step - loss: 0.6368 - accuracy: 0.3168 - val_loss: 0.6437 - val_accuracy: 0.3454\n",
      "Epoch 7/30\n",
      "97/97 [==============================] - 1s 11ms/step - loss: 0.6016 - accuracy: 0.3532 - val_loss: 0.6254 - val_accuracy: 0.3505\n",
      "Epoch 8/30\n",
      "97/97 [==============================] - 1s 6ms/step - loss: 0.5713 - accuracy: 0.3658 - val_loss: 0.6436 - val_accuracy: 0.3466\n",
      "Epoch 9/30\n",
      "97/97 [==============================] - 1s 6ms/step - loss: 0.5462 - accuracy: 0.3794 - val_loss: 0.6136 - val_accuracy: 0.3647\n",
      "Epoch 10/30\n",
      "97/97 [==============================] - 1s 6ms/step - loss: 0.5266 - accuracy: 0.3855 - val_loss: 0.6137 - val_accuracy: 0.3634\n",
      "Epoch 11/30\n",
      "97/97 [==============================] - 1s 10ms/step - loss: 0.5113 - accuracy: 0.3871 - val_loss: 0.6240 - val_accuracy: 0.3686\n",
      "Epoch 12/30\n",
      "97/97 [==============================] - 1s 8ms/step - loss: 0.4980 - accuracy: 0.3890 - val_loss: 0.6269 - val_accuracy: 0.3608\n",
      "Epoch 13/30\n",
      "97/97 [==============================] - 1s 6ms/step - loss: 0.4887 - accuracy: 0.3894 - val_loss: 0.6350 - val_accuracy: 0.3660\n",
      "Epoch 14/30\n",
      "97/97 [==============================] - 1s 6ms/step - loss: 0.4804 - accuracy: 0.3916 - val_loss: 0.6460 - val_accuracy: 0.3686\n",
      "Epoch 15/30\n",
      "97/97 [==============================] - 1s 6ms/step - loss: 0.4738 - accuracy: 0.3923 - val_loss: 0.6483 - val_accuracy: 0.3686\n",
      "Epoch 16/30\n",
      "97/97 [==============================] - 1s 6ms/step - loss: 0.4686 - accuracy: 0.3935 - val_loss: 0.6498 - val_accuracy: 0.3686\n",
      "Epoch 17/30\n",
      "97/97 [==============================] - 1s 8ms/step - loss: 0.4668 - accuracy: 0.3945 - val_loss: 0.6591 - val_accuracy: 0.3698\n",
      "Epoch 18/30\n",
      "97/97 [==============================] - 1s 6ms/step - loss: 0.4606 - accuracy: 0.3952 - val_loss: 0.6669 - val_accuracy: 0.3647\n",
      "Epoch 19/30\n",
      "97/97 [==============================] - 1s 6ms/step - loss: 0.4571 - accuracy: 0.3958 - val_loss: 0.6749 - val_accuracy: 0.3634\n",
      "Epoch 20/30\n",
      "97/97 [==============================] - 1s 8ms/step - loss: 0.4557 - accuracy: 0.3965 - val_loss: 0.6845 - val_accuracy: 0.3698\n",
      "Epoch 21/30\n",
      "97/97 [==============================] - 1s 8ms/step - loss: 0.4510 - accuracy: 0.3968 - val_loss: 0.6927 - val_accuracy: 0.3686\n",
      "Epoch 22/30\n",
      "97/97 [==============================] - 1s 6ms/step - loss: 0.4479 - accuracy: 0.3971 - val_loss: 0.6993 - val_accuracy: 0.3673\n",
      "Epoch 23/30\n",
      "97/97 [==============================] - 1s 6ms/step - loss: 0.4456 - accuracy: 0.3971 - val_loss: 0.7092 - val_accuracy: 0.3660\n",
      "Epoch 24/30\n",
      "97/97 [==============================] - 1s 6ms/step - loss: 0.4449 - accuracy: 0.3977 - val_loss: 0.7178 - val_accuracy: 0.3698\n",
      "Epoch 25/30\n",
      "97/97 [==============================] - 1s 6ms/step - loss: 0.4442 - accuracy: 0.3971 - val_loss: 0.7286 - val_accuracy: 0.3673\n",
      "Epoch 26/30\n",
      "97/97 [==============================] - 1s 5ms/step - loss: 0.4419 - accuracy: 0.3974 - val_loss: 0.7351 - val_accuracy: 0.3673\n",
      "Epoch 27/30\n",
      "97/97 [==============================] - 1s 10ms/step - loss: 0.4399 - accuracy: 0.3977 - val_loss: 0.7470 - val_accuracy: 0.3686\n",
      "Epoch 28/30\n",
      "97/97 [==============================] - 1s 7ms/step - loss: 0.4379 - accuracy: 0.3977 - val_loss: 0.7644 - val_accuracy: 0.3750\n",
      "Epoch 29/30\n",
      "97/97 [==============================] - 1s 7ms/step - loss: 0.4370 - accuracy: 0.3981 - val_loss: 0.7635 - val_accuracy: 0.3660\n",
      "Epoch 30/30\n",
      "97/97 [==============================] - 1s 13ms/step - loss: 0.4363 - accuracy: 0.3981 - val_loss: 0.7789 - val_accuracy: 0.3698 0s - loss: 0.4350 - accuracy: 0.\n"
     ]
    }
   ],
   "source": [
    "history=model.fit(X_train_pad,y_train_tensor,epochs=30,\n",
    "                 validation_data=(X_valid_pad,y_valid_tensor))"
   ]
  },
  {
   "cell_type": "code",
   "execution_count": 23,
   "id": "70948958",
   "metadata": {},
   "outputs": [],
   "source": [
    "sentence=['company has earned good profits']\n",
    "sequence=tokens.texts_to_sequences(sentence)\n",
    "padded=pad_sequences(sequence,maxlen=max_len,padding=\"post\")"
   ]
  },
  {
   "cell_type": "code",
   "execution_count": 26,
   "id": "e54649ef",
   "metadata": {},
   "outputs": [
    {
     "data": {
      "text/plain": [
       "array([[0.96020484]], dtype=float32)"
      ]
     },
     "execution_count": 26,
     "metadata": {},
     "output_type": "execute_result"
    }
   ],
   "source": [
    "model.predict(padded)"
   ]
  },
  {
   "cell_type": "code",
   "execution_count": null,
   "id": "9368d173",
   "metadata": {},
   "outputs": [],
   "source": []
  }
 ],
 "metadata": {
  "kernelspec": {
   "display_name": "Python 3",
   "language": "python",
   "name": "python3"
  },
  "language_info": {
   "codemirror_mode": {
    "name": "ipython",
    "version": 3
   },
   "file_extension": ".py",
   "mimetype": "text/x-python",
   "name": "python",
   "nbconvert_exporter": "python",
   "pygments_lexer": "ipython3",
   "version": "3.8.8"
  }
 },
 "nbformat": 4,
 "nbformat_minor": 5
}
